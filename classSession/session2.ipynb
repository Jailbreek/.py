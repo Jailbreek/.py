{
 "cells": [
  {
   "cell_type": "code",
   "execution_count": 25,
   "metadata": {},
   "outputs": [],
   "source": [
    "from Bio.Seq import Seq"
   ]
  },
  {
   "cell_type": "code",
   "execution_count": 26,
   "metadata": {},
   "outputs": [],
   "source": [
    "# Create Sequence\n",
    "seqA = Seq('AGCTTGCAGCGTCCGTTAGCTCGAGTCCAGGACGTTAGTCCTGCAGTC')\n",
    "seqB = Seq('CAGTAAGTTGCCGTTAGCGCGTAGTGCCAGTAAGCGGCTCGTTAGTGG')"
   ]
  },
  {
   "cell_type": "code",
   "execution_count": 27,
   "metadata": {},
   "outputs": [
    {
     "name": "stdout",
     "output_type": "stream",
     "text": [
      "GC seqA:  58.333333333333336\n",
      "GC seqB:  56.25\n"
     ]
    }
   ],
   "source": [
    "# GC Manual 1\n",
    "def gc_content(seq):\n",
    "  result = float(seq.count('G') + seq.count('C')) / len(seq)\n",
    "  return result * 100\n",
    "gc_content(seqA)\n",
    "print('GC seqA: ', gc_content(seqA))\n",
    "print('GC seqB: ', gc_content(seqB))\n"
   ]
  },
  {
   "cell_type": "code",
   "execution_count": 28,
   "metadata": {},
   "outputs": [
    {
     "name": "stdout",
     "output_type": "stream",
     "text": [
      "GC2 seqA: 58.333333333333336\n",
      "GC2 seqB: 56.25\n"
     ]
    }
   ],
   "source": [
    "# GC Manual 2\n",
    "def gc_content2(seq):\n",
    "  gc = [x for x in seq if x in 'GC']\n",
    "  result = len(gc) / len(seq)\n",
    "  return result * 100\n",
    "print('GC2 seqA:', gc_content2(seqA))\n",
    "print('GC2 seqB:', gc_content2(seqB))"
   ]
  },
  {
   "cell_type": "code",
   "execution_count": 29,
   "metadata": {},
   "outputs": [
    {
     "name": "stdout",
     "output_type": "stream",
     "text": [
      "58.333333333333336\n",
      "56.25\n"
     ]
    }
   ],
   "source": [
    "# GC Function\n",
    "from Bio.SeqUtils import GC\n",
    "print(GC(seqA))\n",
    "print(GC(seqB))"
   ]
  },
  {
   "cell_type": "code",
   "execution_count": 30,
   "metadata": {},
   "outputs": [
    {
     "data": {
      "text/plain": [
       "58.333333333333336"
      ]
     },
     "execution_count": 30,
     "metadata": {},
     "output_type": "execute_result"
    }
   ],
   "source": [
    "# gc_fraction\n",
    "from Bio.SeqUtils import gc_fraction\n",
    "gc_fraction(seqA) * 100"
   ]
  },
  {
   "cell_type": "code",
   "execution_count": 31,
   "metadata": {},
   "outputs": [
    {
     "name": "stdout",
     "output_type": "stream",
     "text": [
      "AT seqA:  41.66666666666667\n",
      "GC seqB:  56.25\n",
      "AT seqB:  43.75\n"
     ]
    }
   ],
   "source": [
    "# AT Manual 1\n",
    "def at_content(seq):\n",
    "  result = float(seq.count('A') + seq.count('T')) / len(seq)\n",
    "  return result * 100\n",
    "print('AT seqA: ', at_content(seqA))\n",
    "print('GC seqB: ', gc_content(seqB))\n",
    "print('AT seqB: ', at_content(seqB))"
   ]
  },
  {
   "cell_type": "code",
   "execution_count": 32,
   "metadata": {},
   "outputs": [
    {
     "name": "stdout",
     "output_type": "stream",
     "text": [
      "AT seqA:  41.66666666666667\n",
      "GC seqB:  56.25\n",
      "AT seqB:  43.75\n"
     ]
    }
   ],
   "source": [
    "# AT Manual 2\n",
    "def at_content2(seq):\n",
    "  at = [x for x in seq if x in 'AT']\n",
    "  result = len (at) /len(seq)\n",
    "  return result * 100\n",
    "print('AT seqA: ', at_content2(seqA))\n",
    "print('GC seqB: ', gc_content2(seqB))\n",
    "print('AT seqB: ', at_content2(seqB))"
   ]
  },
  {
   "cell_type": "code",
   "execution_count": 33,
   "metadata": {},
   "outputs": [
    {
     "name": "stdout",
     "output_type": "stream",
     "text": [
      "GC Len:  27\n",
      "AT Len:  21\n",
      "Wallace Manual seqA:  152\n",
      "Wallace Manual seqB:  150\n"
     ]
    }
   ],
   "source": [
    "# Wallace\n",
    "def gc_len(seq):\n",
    "  gc = [x for x in seq if x in 'GC']\n",
    "  return len(gc)\n",
    "print('GC Len: ', gc_len(seqB))\n",
    "\n",
    "\n",
    "def at_len(seq):\n",
    "  at = [x for x in seq if x in 'AT']\n",
    "  return len(at)\n",
    "print('AT Len: ', at_len(seqB))\n",
    "\n",
    "\n",
    "def wallace_manual(seq):\n",
    "  mt = 2 * at_len(seq) + 4 * gc_len(seq)\n",
    "  return mt\n",
    "print('Wallace Manual seqA: ', wallace_manual(seqA))\n",
    "print('Wallace Manual seqB: ', wallace_manual(seqB))"
   ]
  },
  {
   "cell_type": "code",
   "execution_count": 34,
   "metadata": {},
   "outputs": [
    {
     "name": "stdout",
     "output_type": "stream",
     "text": [
      "Wallace Function seqA:  152\n",
      "Wallace Function seqB:  150\n"
     ]
    }
   ],
   "source": [
    "# Wallace Function\n",
    "from Bio.SeqUtils import MeltingTemp as mt\n",
    "\n",
    "print('Wallace Function seqA: ', wallace_manual(seqA))\n",
    "print('Wallace Function seqB: ', wallace_manual(seqB))"
   ]
  },
  {
   "cell_type": "code",
   "execution_count": 35,
   "metadata": {},
   "outputs": [
    {
     "name": "stdout",
     "output_type": "stream",
     "text": [
      "GC Melting Point seqA:  71.31956873864458\n",
      "GC Melting Point seqB:  70.4654020719779\n"
     ]
    }
   ],
   "source": [
    "# GC\n",
    "print('GC Melting Point seqA: ', mt.Tm_GC(seqA))\n",
    "print('GC Melting Point seqB: ', mt.Tm_GC(seqB))"
   ]
  },
  {
   "cell_type": "code",
   "execution_count": 36,
   "metadata": {},
   "outputs": [
    {
     "name": "stdout",
     "output_type": "stream",
     "text": [
      "NN Melting Point seqA:  73.44322665093074\n",
      "NN Melting Point seqB:  72.35989208603081\n"
     ]
    }
   ],
   "source": [
    "# NN\n",
    "print('NN Melting Point seqA: ', mt.Tm_NN(seqA))\n",
    "print('NN Melting Point seqB: ', mt.Tm_NN(seqB))"
   ]
  },
  {
   "attachments": {},
   "cell_type": "markdown",
   "metadata": {},
   "source": [
    "Molecular Weight"
   ]
  },
  {
   "cell_type": "code",
   "execution_count": 37,
   "metadata": {},
   "outputs": [
    {
     "name": "stdout",
     "output_type": "stream",
     "text": [
      "Molecular Weight seqA:  14831.413499999997\n",
      "Molecular Weight seqB:  14975.510499999997\n"
     ]
    }
   ],
   "source": [
    "from Bio.SeqUtils import molecular_weight as mw\n",
    "print('Molecular Weight seqA: ', mw(seqA))\n",
    "print('Molecular Weight seqB: ', mw(seqB))"
   ]
  },
  {
   "cell_type": "code",
   "execution_count": null,
   "metadata": {},
   "outputs": [],
   "source": [
    "data = [gc_content(seqA), at_content(seqA)]\n",
    "label = ['GC', 'AT']\n",
    "plt.pie(data, labels = label)"
   ]
  }
 ],
 "metadata": {
  "kernelspec": {
   "display_name": "Python 3",
   "language": "python",
   "name": "python3"
  },
  "language_info": {
   "codemirror_mode": {
    "name": "ipython",
    "version": 3
   },
   "file_extension": ".py",
   "mimetype": "text/x-python",
   "name": "python",
   "nbconvert_exporter": "python",
   "pygments_lexer": "ipython3",
   "version": "3.10.4"
  },
  "orig_nbformat": 4
 },
 "nbformat": 4,
 "nbformat_minor": 2
}
