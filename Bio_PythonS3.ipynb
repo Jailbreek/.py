{
  "nbformat": 4,
  "nbformat_minor": 0,
  "metadata": {
    "colab": {
      "provenance": [],
      "authorship_tag": "ABX9TyMyyp3zDCFkpr2s1oQPBZGr"
    },
    "kernelspec": {
      "name": "python3",
      "display_name": "Python 3"
    },
    "language_info": {
      "name": "python"
    }
  },
  "cells": [
    {
      "cell_type": "code",
      "source": [
        "!pip install BioPython"
      ],
      "metadata": {
        "colab": {
          "base_uri": "https://localhost:8080/"
        },
        "id": "Ludvh0NBF6oE",
        "outputId": "c76e1233-62ef-4d4c-cc9b-b51ccb56b4e2"
      },
      "execution_count": 66,
      "outputs": [
        {
          "output_type": "stream",
          "name": "stdout",
          "text": [
            "Looking in indexes: https://pypi.org/simple, https://us-python.pkg.dev/colab-wheels/public/simple/\n",
            "Requirement already satisfied: BioPython in /usr/local/lib/python3.9/dist-packages (1.81)\n",
            "Requirement already satisfied: numpy in /usr/local/lib/python3.9/dist-packages (from BioPython) (1.22.4)\n"
          ]
        }
      ]
    },
    {
      "cell_type": "code",
      "source": [
        "from Bio.Seq import Seq"
      ],
      "metadata": {
        "id": "IcWpA03zFxA4"
      },
      "execution_count": 67,
      "outputs": []
    },
    {
      "cell_type": "code",
      "source": [
        "main_seq = Seq('GGAGTCGTATT')\n",
        "main_seq\n",
        "print(main_seq)"
      ],
      "metadata": {
        "colab": {
          "base_uri": "https://localhost:8080/"
        },
        "id": "DFvUfOdJHD1S",
        "outputId": "662e5be1-72d7-42ab-9ec0-009f10cd6f73"
      },
      "execution_count": 68,
      "outputs": [
        {
          "output_type": "stream",
          "name": "stdout",
          "text": [
            "GGAGTCGTATT\n"
          ]
        }
      ]
    },
    {
      "cell_type": "code",
      "source": [
        "#change Template Strand to Coding Strand\n",
        "print(main_seq) # Template Strand\n",
        "print(main_seq.complement()) # Coding Strand"
      ],
      "metadata": {
        "colab": {
          "base_uri": "https://localhost:8080/"
        },
        "id": "CLjX70K6HHew",
        "outputId": "ffb9d494-95e0-4ed5-c8be-0fc1b78efcf3"
      },
      "execution_count": 69,
      "outputs": [
        {
          "output_type": "stream",
          "name": "stdout",
          "text": [
            "GGAGTCGTATT\n",
            "CCTCAGCATAA\n"
          ]
        }
      ]
    },
    {
      "cell_type": "code",
      "source": [
        "# Reverse Complement\n",
        "print(main_seq.reverse_complement())"
      ],
      "metadata": {
        "colab": {
          "base_uri": "https://localhost:8080/"
        },
        "id": "e1KDXVU8H9EV",
        "outputId": "97048ff6-7257-4665-8c71-3f5c2f3ca991"
      },
      "execution_count": 70,
      "outputs": [
        {
          "output_type": "stream",
          "name": "stdout",
          "text": [
            "AATACGACTCC\n"
          ]
        }
      ]
    },
    {
      "cell_type": "code",
      "source": [
        "# Change DNA Strand to mRNA Strand \n",
        "coding_strand = main_seq.complement()\n",
        "mRNA = coding_strand.transcribe()\n",
        "mRNA"
      ],
      "metadata": {
        "colab": {
          "base_uri": "https://localhost:8080/"
        },
        "id": "uGTLyBazIH5v",
        "outputId": "d213d297-46a4-4c6a-eaf9-c9eed6602f30"
      },
      "execution_count": 71,
      "outputs": [
        {
          "output_type": "execute_result",
          "data": {
            "text/plain": [
              "Seq('CCUCAGCAUAA')"
            ]
          },
          "metadata": {},
          "execution_count": 71
        }
      ]
    },
    {
      "cell_type": "code",
      "source": [
        "# Change mRNA Strand back to DNA Strand\n",
        "coding_strand = mRNA.back_transcribe()\n",
        "template_strand = coding_strand.complement()\n",
        "print(coding_strand)\n",
        "print(template_strand)"
      ],
      "metadata": {
        "colab": {
          "base_uri": "https://localhost:8080/"
        },
        "id": "hNCB30I7JWUb",
        "outputId": "de97b6e6-7ebd-4b00-85b9-a55be9a93b16"
      },
      "execution_count": 72,
      "outputs": [
        {
          "output_type": "stream",
          "name": "stdout",
          "text": [
            "CCTCAGCATAA\n",
            "GGAGTCGTATT\n"
          ]
        }
      ]
    },
    {
      "cell_type": "code",
      "source": [
        "# Change mRNA Strand to Polypeptide\n",
        "mRNA.translate()\n",
        "mRNA.back_transcribe()\n",
        "print(mRNA)\n",
        "print(mRNA.translate())\n",
        "print(mRNA.back_transcribe())"
      ],
      "metadata": {
        "colab": {
          "base_uri": "https://localhost:8080/"
        },
        "id": "LztpofKTKr5f",
        "outputId": "ae74eca4-db7e-4041-8208-f6a641959f4c"
      },
      "execution_count": 73,
      "outputs": [
        {
          "output_type": "stream",
          "name": "stdout",
          "text": [
            "CCUCAGCAUAA\n",
            "PQH\n",
            "CCTCAGCATAA\n"
          ]
        },
        {
          "output_type": "stream",
          "name": "stderr",
          "text": [
            "/usr/local/lib/python3.9/dist-packages/Bio/Seq.py:2804: BiopythonWarning: Partial codon, len(sequence) not a multiple of three. Explicitly trim the sequence or add trailing N before translation. This may become an error in future.\n",
            "  warnings.warn(\n"
          ]
        }
      ]
    },
    {
      "cell_type": "code",
      "source": [
        "# Change Stop Symbol\n",
        "print(mRNA.translate(stop_symbol = \"UE\"))"
      ],
      "metadata": {
        "colab": {
          "base_uri": "https://localhost:8080/"
        },
        "id": "sqlEYsuNLk1L",
        "outputId": "4e98d267-dc62-4363-feb7-ab5aae84fdcf"
      },
      "execution_count": 74,
      "outputs": [
        {
          "output_type": "stream",
          "name": "stdout",
          "text": [
            "PQH\n"
          ]
        }
      ]
    },
    {
      "cell_type": "code",
      "source": [
        "# Change DNA Strand to Polypeptide\n",
        "coding_strand = main_seq.complement()\n",
        "print(coding_strand.translate())"
      ],
      "metadata": {
        "colab": {
          "base_uri": "https://localhost:8080/"
        },
        "id": "CFFPfCfvL3_e",
        "outputId": "51dbbdc4-a4dd-4a46-9572-c74517fcb79f"
      },
      "execution_count": 75,
      "outputs": [
        {
          "output_type": "stream",
          "name": "stdout",
          "text": [
            "PQH\n"
          ]
        }
      ]
    },
    {
      "cell_type": "code",
      "source": [
        "# Change from Template Strand to Polypeptide\n",
        "main_seq.complement().transcribe().translate()"
      ],
      "metadata": {
        "colab": {
          "base_uri": "https://localhost:8080/"
        },
        "id": "S7azkDF6PcMT",
        "outputId": "58de46e1-8ecc-4fac-fa86-bc0647215d5d"
      },
      "execution_count": 76,
      "outputs": [
        {
          "output_type": "execute_result",
          "data": {
            "text/plain": [
              "Seq('PQH')"
            ]
          },
          "metadata": {},
          "execution_count": 76
        }
      ]
    },
    {
      "cell_type": "code",
      "source": [
        "from Bio.SeqUtils import seq3, seq1"
      ],
      "metadata": {
        "id": "AoDYMSmwM8HA"
      },
      "execution_count": 77,
      "outputs": []
    },
    {
      "cell_type": "code",
      "source": [
        "# Make Polypeptide Variable\n",
        "polypeptide = mRNA.translate()\n",
        "polypeptide"
      ],
      "metadata": {
        "colab": {
          "base_uri": "https://localhost:8080/"
        },
        "id": "itMLR8MOM6vo",
        "outputId": "077c1241-3530-40af-b4a5-55b403e10f20"
      },
      "execution_count": 78,
      "outputs": [
        {
          "output_type": "execute_result",
          "data": {
            "text/plain": [
              "Seq('PQH')"
            ]
          },
          "metadata": {},
          "execution_count": 78
        }
      ]
    },
    {
      "cell_type": "code",
      "source": [
        "poly3 = seq3(polypeptide)\n",
        "poly3"
      ],
      "metadata": {
        "colab": {
          "base_uri": "https://localhost:8080/",
          "height": 35
        },
        "id": "8kG3btLwNfob",
        "outputId": "f321101a-1d45-4b6f-aeb4-eb4a8b1860ba"
      },
      "execution_count": 79,
      "outputs": [
        {
          "output_type": "execute_result",
          "data": {
            "text/plain": [
              "'ProGlnHis'"
            ],
            "application/vnd.google.colaboratory.intrinsic+json": {
              "type": "string"
            }
          },
          "metadata": {},
          "execution_count": 79
        }
      ]
    },
    {
      "cell_type": "code",
      "source": [
        "# Change 3 Letter Seq to 1 letter Seq\n",
        "poly1 = seq1(poly3)\n",
        "poly1"
      ],
      "metadata": {
        "colab": {
          "base_uri": "https://localhost:8080/",
          "height": 35
        },
        "id": "q20YxbcWNg_2",
        "outputId": "407dbeb8-6ff3-459d-be9c-6c60ea9da511"
      },
      "execution_count": 80,
      "outputs": [
        {
          "output_type": "execute_result",
          "data": {
            "text/plain": [
              "'PQH'"
            ],
            "application/vnd.google.colaboratory.intrinsic+json": {
              "type": "string"
            }
          },
          "metadata": {},
          "execution_count": 80
        }
      ]
    },
    {
      "cell_type": "code",
      "source": [
        "from Bio.Data import CodonTable as ct"
      ],
      "metadata": {
        "id": "GkK2zzNTN6f_"
      },
      "execution_count": 81,
      "outputs": []
    },
    {
      "cell_type": "code",
      "source": [
        "dir(ct)"
      ],
      "metadata": {
        "colab": {
          "base_uri": "https://localhost:8080/"
        },
        "id": "3Voh3HprOGBc",
        "outputId": "59f6bd97-f82e-4318-bb7e-07736cc16ccf"
      },
      "execution_count": 82,
      "outputs": [
        {
          "output_type": "execute_result",
          "data": {
            "text/plain": [
              "['AmbiguousCodonTable',\n",
              " 'AmbiguousForwardTable',\n",
              " 'CodonTable',\n",
              " 'IUPACData',\n",
              " 'NCBICodonTable',\n",
              " 'NCBICodonTableDNA',\n",
              " 'NCBICodonTableRNA',\n",
              " 'TranslationError',\n",
              " '__builtins__',\n",
              " '__cached__',\n",
              " '__doc__',\n",
              " '__file__',\n",
              " '__loader__',\n",
              " '__name__',\n",
              " '__package__',\n",
              " '__spec__',\n",
              " 'ambiguous_dna_by_id',\n",
              " 'ambiguous_dna_by_name',\n",
              " 'ambiguous_generic_by_id',\n",
              " 'ambiguous_generic_by_name',\n",
              " 'ambiguous_rna_by_id',\n",
              " 'ambiguous_rna_by_name',\n",
              " 'generic_by_id',\n",
              " 'generic_by_name',\n",
              " 'list_ambiguous_codons',\n",
              " 'list_possible_proteins',\n",
              " 'make_back_table',\n",
              " 'register_ncbi_table',\n",
              " 'standard_dna_table',\n",
              " 'standard_rna_table',\n",
              " 'unambiguous_dna_by_id',\n",
              " 'unambiguous_dna_by_name',\n",
              " 'unambiguous_rna_by_id',\n",
              " 'unambiguous_rna_by_name']"
            ]
          },
          "metadata": {},
          "execution_count": 82
        }
      ]
    },
    {
      "cell_type": "code",
      "source": [
        "# mRNA Codon Table\n",
        "print(ct.unambiguous_rna_by_name[\"Standard\"])"
      ],
      "metadata": {
        "colab": {
          "base_uri": "https://localhost:8080/"
        },
        "id": "7uY4NVpdOSC3",
        "outputId": "be9920b2-2c16-4c45-8442-dd31c6cf1af5"
      },
      "execution_count": 83,
      "outputs": [
        {
          "output_type": "stream",
          "name": "stdout",
          "text": [
            "Table 1 Standard, SGC0\n",
            "\n",
            "  |  U      |  C      |  A      |  G      |\n",
            "--+---------+---------+---------+---------+--\n",
            "U | UUU F   | UCU S   | UAU Y   | UGU C   | U\n",
            "U | UUC F   | UCC S   | UAC Y   | UGC C   | C\n",
            "U | UUA L   | UCA S   | UAA Stop| UGA Stop| A\n",
            "U | UUG L(s)| UCG S   | UAG Stop| UGG W   | G\n",
            "--+---------+---------+---------+---------+--\n",
            "C | CUU L   | CCU P   | CAU H   | CGU R   | U\n",
            "C | CUC L   | CCC P   | CAC H   | CGC R   | C\n",
            "C | CUA L   | CCA P   | CAA Q   | CGA R   | A\n",
            "C | CUG L(s)| CCG P   | CAG Q   | CGG R   | G\n",
            "--+---------+---------+---------+---------+--\n",
            "A | AUU I   | ACU T   | AAU N   | AGU S   | U\n",
            "A | AUC I   | ACC T   | AAC N   | AGC S   | C\n",
            "A | AUA I   | ACA T   | AAA K   | AGA R   | A\n",
            "A | AUG M(s)| ACG T   | AAG K   | AGG R   | G\n",
            "--+---------+---------+---------+---------+--\n",
            "G | GUU V   | GCU A   | GAU D   | GGU G   | U\n",
            "G | GUC V   | GCC A   | GAC D   | GGC G   | C\n",
            "G | GUA V   | GCA A   | GAA E   | GGA G   | A\n",
            "G | GUG V   | GCG A   | GAG E   | GGG G   | G\n",
            "--+---------+---------+---------+---------+--\n"
          ]
        }
      ]
    },
    {
      "cell_type": "code",
      "source": [
        "# DNA Codon Table\n",
        "print(ct.unambiguous_dna_by_name[\"Standard\"])"
      ],
      "metadata": {
        "colab": {
          "base_uri": "https://localhost:8080/"
        },
        "id": "cMwR-7W8O1By",
        "outputId": "a646346a-a0d2-4c2d-88a4-be1d218e6559"
      },
      "execution_count": 84,
      "outputs": [
        {
          "output_type": "stream",
          "name": "stdout",
          "text": [
            "Table 1 Standard, SGC0\n",
            "\n",
            "  |  T      |  C      |  A      |  G      |\n",
            "--+---------+---------+---------+---------+--\n",
            "T | TTT F   | TCT S   | TAT Y   | TGT C   | T\n",
            "T | TTC F   | TCC S   | TAC Y   | TGC C   | C\n",
            "T | TTA L   | TCA S   | TAA Stop| TGA Stop| A\n",
            "T | TTG L(s)| TCG S   | TAG Stop| TGG W   | G\n",
            "--+---------+---------+---------+---------+--\n",
            "C | CTT L   | CCT P   | CAT H   | CGT R   | T\n",
            "C | CTC L   | CCC P   | CAC H   | CGC R   | C\n",
            "C | CTA L   | CCA P   | CAA Q   | CGA R   | A\n",
            "C | CTG L(s)| CCG P   | CAG Q   | CGG R   | G\n",
            "--+---------+---------+---------+---------+--\n",
            "A | ATT I   | ACT T   | AAT N   | AGT S   | T\n",
            "A | ATC I   | ACC T   | AAC N   | AGC S   | C\n",
            "A | ATA I   | ACA T   | AAA K   | AGA R   | A\n",
            "A | ATG M(s)| ACG T   | AAG K   | AGG R   | G\n",
            "--+---------+---------+---------+---------+--\n",
            "G | GTT V   | GCT A   | GAT D   | GGT G   | T\n",
            "G | GTC V   | GCC A   | GAC D   | GGC G   | C\n",
            "G | GTA V   | GCA A   | GAA E   | GGA G   | A\n",
            "G | GTG V   | GCG A   | GAG E   | GGG G   | G\n",
            "--+---------+---------+---------+---------+--\n"
          ]
        }
      ]
    }
  ]
}